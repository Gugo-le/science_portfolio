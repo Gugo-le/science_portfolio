{
 "cells": [
  {
   "cell_type": "code",
   "execution_count": 4,
   "metadata": {},
   "outputs": [
    {
     "name": "stdout",
     "output_type": "stream",
     "text": [
      "시리즈 출력:\n",
      "---------------\n",
      "피자    17000\n",
      "치킨    18000\n",
      "콜라     1000\n",
      "맥주     5000\n",
      "dtype: int64\n"
     ]
    }
   ],
   "source": [
    "import pandas as pd\n",
    "\n",
    "sr = pd.Series([17000, 18000, 1000, 5000], index=[\"피자\", \"치킨\", \"콜라\", \"맥주\"])\n",
    "print('시리즈 출력:')\n",
    "print('-'*15)\n",
    "print(sr)"
   ]
  },
  {
   "cell_type": "code",
   "execution_count": 5,
   "metadata": {},
   "outputs": [
    {
     "name": "stdout",
     "output_type": "stream",
     "text": [
      "시리즈의 값 : [17000 18000  1000  5000]\n",
      "시리즈의 인덱스 : Index(['피자', '치킨', '콜라', '맥주'], dtype='object')\n"
     ]
    }
   ],
   "source": [
    "print('시리즈의 값 : {}'.format(sr.values))\n",
    "print('시리즈의 인덱스 : {}'.format(sr.index))"
   ]
  },
  {
   "cell_type": "markdown",
   "metadata": {},
   "source": [
    "시리즈 클래스는 1차원 배열의 값에 각 값에 대응되는 인덱스를 부여할 수 있는 구조를 가지고 있다."
   ]
  }
 ],
 "metadata": {
  "kernelspec": {
   "display_name": "Python 3",
   "language": "python",
   "name": "python3"
  },
  "language_info": {
   "codemirror_mode": {
    "name": "ipython",
    "version": 3
   },
   "file_extension": ".py",
   "mimetype": "text/x-python",
   "name": "python",
   "nbconvert_exporter": "python",
   "pygments_lexer": "ipython3",
   "version": "3.11.1"
  },
  "orig_nbformat": 4
 },
 "nbformat": 4,
 "nbformat_minor": 2
}
